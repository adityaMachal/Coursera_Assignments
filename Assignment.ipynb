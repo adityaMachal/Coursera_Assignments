{
 "cells": [
  {
   "cell_type": "markdown",
   "id": "783e3d45-8773-4142-9f0a-72fcaeac77ab",
   "metadata": {},
   "source": [
    "# Graded_Assignment   "
   ]
  },
  {
   "cell_type": "markdown",
   "id": "a8bd44a5-d75f-46a3-8c2f-27ce191d2840",
   "metadata": {},
   "source": [
    "## Objective  \n",
    "- Introduction\n",
    "- data Science languages\n",
    "- data science libraries\n",
    "- Data science tools table\n",
    "- arithmetic expressions\n",
    "- code to add and multiply 2 numbers\n",
    "- code to convert minutes to hours"
   ]
  },
  {
   "cell_type": "markdown",
   "id": "04932224-783f-4515-b185-67082481b346",
   "metadata": {},
   "source": [
    "### Introduction\n",
    "Hello, I am Aditya Machal   \n",
    "currently persuing Bechalors of Technology in Computer Science and Engineering (Second Year)\n",
    "from lovely professional university"
   ]
  },
  {
   "cell_type": "markdown",
   "id": "f17f0984-f032-412b-865b-d3db5780696b",
   "metadata": {},
   "source": [
    "__Data Science Languages__:\n",
    "    Python\n",
    "    R\n",
    "    SQL\n",
    "    Julia\n",
    "    Scala\n",
    "    Swift\n",
    "    Go"
   ]
  },
  {
   "cell_type": "markdown",
   "id": "3f703b99-86d8-4a5b-8743-ab5ff8850bdf",
   "metadata": {},
   "source": [
    "__Data Scinece Libraries__: NumPy, Pandas, MAtplotlib, Seaborn, plotly, keras, pytorch, beautiful soup"
   ]
  },
  {
   "cell_type": "markdown",
   "id": "f53ec18f-0336-436c-ad4e-0a2cf41cf85f",
   "metadata": {},
   "source": [
    "# Data_Science_Tools   \n",
    "   \n",
    "|Category               |  Tools                                                    |   \n",
    "|-----------------------|-----------------------------------------------------------|\n",
    "|Data Manangement       | MySQL, PostgreSQL, CouchDB, MongoDB, Hadoop, elastisearch |\n",
    "|IDE                    | VSCode, Pycharm, RStudio, Spyder, Google Colab            |\n",
    "|Data intergration and transformation|SparkSQL, Kubeflow, Kafka, NODE-RED, Airflow, nifi |\n",
    "|Data Visualization|Tableau, Power BI, Kibana, Pixiedust, Hue, SuperSet|\n",
    "|Model Deployment|Kubernetes, Tensorflow.js, Tensorflowlite, PredictionIO, Seldon, OpenShift, Mleap|\n",
    "|Model Monitoring and Assesment| ModelDB, AI Fairness 360, AI Explainability 360, Prometheus, Adversial Robustness 360|\n",
    "|Code Asset| Git, Github, Gitlab, Bitbucket|\n",
    "|Data Asset| Egiria, Kylo, Atlas|"
   ]
  },
  {
   "cell_type": "markdown",
   "id": "7a4078ae-8611-45c3-9041-e00ce3fcf722",
   "metadata": {},
   "source": [
    "Addition: a + b   \n",
    "Subtraction: a-b  \n",
    "multiplication: a * b  \n",
    "division: a / b   \n",
    "Floor division: a // b   \n",
    "Modulus: a % b  \n",
    "power: a ** b   "
   ]
  },
  {
   "cell_type": "code",
   "execution_count": 53,
   "id": "e3810cb7-e975-4bd4-b879-4d9ca8b5cd89",
   "metadata": {},
   "outputs": [
    {
     "name": "stdout",
     "output_type": "stream",
     "text": [
      "Product of a and b = 6624 \n",
      " Sum of a and b = 165\n"
     ]
    }
   ],
   "source": [
    "a = 96\n",
    "b = 69\n",
    "def multi(a,b):\n",
    "    return a*b\n",
    "def addi(a,b):\n",
    "    return a+b\n",
    "c=multi(a,b)\n",
    "d=addi(a,b)\n",
    "print(\"Product of a and b =\",c,\"\\n\",\"Sum of a and b =\",d)"
   ]
  },
  {
   "cell_type": "code",
   "execution_count": 67,
   "id": "ec91bb8b-8b5b-4c64-93da-33caaa8cd48a",
   "metadata": {},
   "outputs": [
    {
     "name": "stdout",
     "output_type": "stream",
     "text": [
      "166.65 Hours\n"
     ]
    }
   ],
   "source": [
    "a= 9999\n",
    "b = a/60\n",
    "print(b,\"Hours\")"
   ]
  },
  {
   "cell_type": "markdown",
   "id": "f4365d1b-d762-414c-9a0b-01428a088945",
   "metadata": {},
   "source": [
    "__Auther's Names__: ADITYA MACHAL"
   ]
  }
 ],
 "metadata": {
  "kernelspec": {
   "display_name": "Python [conda env:base] *",
   "language": "python",
   "name": "conda-base-py"
  },
  "language_info": {
   "codemirror_mode": {
    "name": "ipython",
    "version": 3
   },
   "file_extension": ".py",
   "mimetype": "text/x-python",
   "name": "python",
   "nbconvert_exporter": "python",
   "pygments_lexer": "ipython3",
   "version": "3.12.7"
  }
 },
 "nbformat": 4,
 "nbformat_minor": 5
}
