{
 "cells": [
  {
   "cell_type": "markdown",
   "id": "783e3d45-8773-4142-9f0a-72fcaeac77ab",
   "metadata": {},
   "source": [
    "# Graded_Assignment   "
   ]
  },
  {
   "cell_type": "markdown",
   "id": "a8bd44a5-d75f-46a3-8c2f-27ce191d2840",
   "metadata": {},
   "source": [
    "## Objective  \n",
    "- Introduction\n",
    "- data Science languages\n",
    "- data science libraries\n",
    "- Data science tools table\n",
    "- arithmetic expressions\n",
    "- code to add and multiply 2 numbers\n",
    "- code to convert minutes to hours"
   ]
  },
  {
   "cell_type": "markdown",
   "id": "04932224-783f-4515-b185-67082481b346",
   "metadata": {},
   "source": [
    "### Introduction\n",
    "Hello, I am Aditya Machal   \n",
    "currently persuing Bechalors of Technology in Computer Science and Engineering (Second Year)\n",
    "from lovely professional university"
   ]
  },
  {
   "cell_type": "markdown",
   "id": "f17f0984-f032-412b-865b-d3db5780696b",
   "metadata": {},
   "source": [
    "__Data Science Languages__:\n",
    "   - Python\n",
    "   - R\n",
    "   - SQL\n",
    "   - Julia\n",
    "   - Scala\n",
    "   - C++\n",
    "   - Javascript\n",
    "   - php\n",
    "   - Go\n",
    "   - Ruby\n",
    "   - Visual Basic"
   ]
  },
  {
   "cell_type": "markdown",
   "id": "3f703b99-86d8-4a5b-8743-ab5ff8850bdf",
   "metadata": {},
   "source": [
    "__Data Scinece Libraries__: \n",
    "- NumPy\n",
    "- Pandas\n",
    "- MAtplotlib\n",
    "- Seaborn\n",
    "- plotly\n",
    "- keras\n",
    "- pytorch\n",
    "- Ggplot2\n",
    "- pytorch\n",
    "- Apache Spark\n",
    "- Big DL\n",
    "- Vegas"
   ]
  },
  {
   "cell_type": "markdown",
   "id": "1cfd34f2-20a3-40ac-be2e-33a6231919ef",
   "metadata": {},
   "source": [
    "# Data Science Tools\n",
    "\n",
    "- Anaconda\n",
    "- RStudio\n",
    "- Jupyter\n",
    "- spyder\n",
    "- zeppelin"
   ]
  },
  {
   "cell_type": "markdown",
   "id": "f53ec18f-0336-436c-ad4e-0a2cf41cf85f",
   "metadata": {},
   "source": [
    "# Important tools table(personal use)\n",
    "   \n",
    "|Category                            |  Tools                                                                               |   \n",
    "|------------------------------------|--------------------------------------------------------------------------------------|\n",
    "|Data Manangement                    | MySQL, PostgreSQL, CouchDB, MongoDB, Hadoop, elastisearch                            |\n",
    "|IDE                                 | VSCode, Pycharm, RStudio, Spyder, Google Colab                                       |\n",
    "|Data intergration and transformation|SparkSQL, Kubeflow, Kafka, NODE-RED, Airflow, nifi                                    |\n",
    "|Data Visualization                  |Tableau, Power BI, Kibana, Pixiedust, Hue, SuperSet                                   |\n",
    "|Model Deployment                    |Kubernetes, Tensorflow.js, Tensorflowlite, PredictionIO, Seldon, OpenShift, Mleap     |\n",
    "|Model Monitoring and Assesment      | ModelDB, AI Fairness 360, AI Explainability 360, Prometheus, Adversial Robustness 360|\n",
    "|Code Asset                          | Git, Github, Gitlab, Bitbucket                                                       |\n",
    "|Data Asset                          | Egiria, Kylo, Atlas                                                                  |"
   ]
  },
  {
   "cell_type": "markdown",
   "id": "7a4078ae-8611-45c3-9041-e00ce3fcf722",
   "metadata": {},
   "source": [
    "**Examples of Evaluating arithmetic operations in Python**"
   ]
  },
  {
   "cell_type": "code",
   "execution_count": 10,
   "id": "e3810cb7-e975-4bd4-b879-4d9ca8b5cd89",
   "metadata": {},
   "outputs": [
    {
     "data": {
      "text/plain": [
       "800"
      ]
     },
     "execution_count": 10,
     "metadata": {},
     "output_type": "execute_result"
    }
   ],
   "source": [
    "#simple arithmetic expression to multiply and add integers.\n",
    "(32*22)+96"
   ]
  },
  {
   "cell_type": "code",
   "execution_count": 12,
   "id": "ec91bb8b-8b5b-4c64-93da-33caaa8cd48a",
   "metadata": {},
   "outputs": [
    {
     "data": {
      "text/plain": [
       "9"
      ]
     },
     "execution_count": 12,
     "metadata": {},
     "output_type": "execute_result"
    }
   ],
   "source": [
    "# A simple code to convert 578 minutes to hours.\n",
    "578//60"
   ]
  },
  {
   "cell_type": "markdown",
   "id": "f4365d1b-d762-414c-9a0b-01428a088945",
   "metadata": {
    "jp-MarkdownHeadingCollapsed": true
   },
   "source": [
    "# Author(s)\n",
    "    Aditya Machal"
   ]
  }
 ],
 "metadata": {
  "kernelspec": {
   "display_name": "Python [conda env:base] *",
   "language": "python",
   "name": "conda-base-py"
  },
  "language_info": {
   "codemirror_mode": {
    "name": "ipython",
    "version": 3
   },
   "file_extension": ".py",
   "mimetype": "text/x-python",
   "name": "python",
   "nbconvert_exporter": "python",
   "pygments_lexer": "ipython3",
   "version": "3.12.7"
  }
 },
 "nbformat": 4,
 "nbformat_minor": 5
}
